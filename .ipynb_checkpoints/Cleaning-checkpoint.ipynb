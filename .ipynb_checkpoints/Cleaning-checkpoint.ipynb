{
 "cells": [
  {
   "cell_type": "markdown",
   "metadata": {},
   "source": [
    "### Load Dataset"
   ]
  },
  {
   "cell_type": "code",
   "execution_count": 31,
   "metadata": {},
   "outputs": [],
   "source": [
    "import pandas as pd\n",
    "import glob\n",
    "import os\n",
    "import numpy as np\n",
    "from tqdm import tqdm"
   ]
  },
  {
   "cell_type": "code",
   "execution_count": 18,
   "metadata": {},
   "outputs": [],
   "source": [
    "# create path to read all .csv files in one folder\n",
    "path = r'D:\\Coding\\Personal Projects\\Google Data Analytics Capstone\\dataset' \n",
    "all_files = glob.glob(os.path.join(path , \"*.csv\"))"
   ]
  },
  {
   "cell_type": "code",
   "execution_count": 19,
   "metadata": {},
   "outputs": [],
   "source": [
    "# load .csv files\n",
    "df = pd.concat((pd.read_csv(f) for f in all_files), ignore_index=True)"
   ]
  },
  {
   "cell_type": "code",
   "execution_count": 20,
   "metadata": {},
   "outputs": [
    {
     "data": {
      "text/html": [
       "<div>\n",
       "<style scoped>\n",
       "    .dataframe tbody tr th:only-of-type {\n",
       "        vertical-align: middle;\n",
       "    }\n",
       "\n",
       "    .dataframe tbody tr th {\n",
       "        vertical-align: top;\n",
       "    }\n",
       "\n",
       "    .dataframe thead th {\n",
       "        text-align: right;\n",
       "    }\n",
       "</style>\n",
       "<table border=\"1\" class=\"dataframe\">\n",
       "  <thead>\n",
       "    <tr style=\"text-align: right;\">\n",
       "      <th></th>\n",
       "      <th>ride_id</th>\n",
       "      <th>rideable_type</th>\n",
       "      <th>started_at</th>\n",
       "      <th>ended_at</th>\n",
       "      <th>start_station_name</th>\n",
       "      <th>start_station_id</th>\n",
       "      <th>end_station_name</th>\n",
       "      <th>end_station_id</th>\n",
       "      <th>start_lat</th>\n",
       "      <th>start_lng</th>\n",
       "      <th>end_lat</th>\n",
       "      <th>end_lng</th>\n",
       "      <th>member_casual</th>\n",
       "    </tr>\n",
       "  </thead>\n",
       "  <tbody>\n",
       "    <tr>\n",
       "      <th>0</th>\n",
       "      <td>9DC7B962304CBFD8</td>\n",
       "      <td>electric_bike</td>\n",
       "      <td>2021-09-28 16:07:10</td>\n",
       "      <td>2021-09-28 16:09:54</td>\n",
       "      <td>NaN</td>\n",
       "      <td>NaN</td>\n",
       "      <td>NaN</td>\n",
       "      <td>NaN</td>\n",
       "      <td>41.89</td>\n",
       "      <td>-87.68</td>\n",
       "      <td>41.89</td>\n",
       "      <td>-87.67</td>\n",
       "      <td>casual</td>\n",
       "    </tr>\n",
       "    <tr>\n",
       "      <th>1</th>\n",
       "      <td>F930E2C6872D6B32</td>\n",
       "      <td>electric_bike</td>\n",
       "      <td>2021-09-28 14:24:51</td>\n",
       "      <td>2021-09-28 14:40:05</td>\n",
       "      <td>NaN</td>\n",
       "      <td>NaN</td>\n",
       "      <td>NaN</td>\n",
       "      <td>NaN</td>\n",
       "      <td>41.94</td>\n",
       "      <td>-87.64</td>\n",
       "      <td>41.98</td>\n",
       "      <td>-87.67</td>\n",
       "      <td>casual</td>\n",
       "    </tr>\n",
       "    <tr>\n",
       "      <th>2</th>\n",
       "      <td>6EF72137900BB910</td>\n",
       "      <td>electric_bike</td>\n",
       "      <td>2021-09-28 00:20:16</td>\n",
       "      <td>2021-09-28 00:23:57</td>\n",
       "      <td>NaN</td>\n",
       "      <td>NaN</td>\n",
       "      <td>NaN</td>\n",
       "      <td>NaN</td>\n",
       "      <td>41.81</td>\n",
       "      <td>-87.72</td>\n",
       "      <td>41.80</td>\n",
       "      <td>-87.72</td>\n",
       "      <td>casual</td>\n",
       "    </tr>\n",
       "    <tr>\n",
       "      <th>3</th>\n",
       "      <td>78D1DE133B3DBF55</td>\n",
       "      <td>electric_bike</td>\n",
       "      <td>2021-09-28 14:51:17</td>\n",
       "      <td>2021-09-28 15:00:06</td>\n",
       "      <td>NaN</td>\n",
       "      <td>NaN</td>\n",
       "      <td>NaN</td>\n",
       "      <td>NaN</td>\n",
       "      <td>41.80</td>\n",
       "      <td>-87.72</td>\n",
       "      <td>41.81</td>\n",
       "      <td>-87.72</td>\n",
       "      <td>casual</td>\n",
       "    </tr>\n",
       "    <tr>\n",
       "      <th>4</th>\n",
       "      <td>E03D4ACDCAEF6E00</td>\n",
       "      <td>electric_bike</td>\n",
       "      <td>2021-09-28 09:53:12</td>\n",
       "      <td>2021-09-28 10:03:44</td>\n",
       "      <td>NaN</td>\n",
       "      <td>NaN</td>\n",
       "      <td>NaN</td>\n",
       "      <td>NaN</td>\n",
       "      <td>41.88</td>\n",
       "      <td>-87.74</td>\n",
       "      <td>41.88</td>\n",
       "      <td>-87.71</td>\n",
       "      <td>casual</td>\n",
       "    </tr>\n",
       "  </tbody>\n",
       "</table>\n",
       "</div>"
      ],
      "text/plain": [
       "            ride_id  rideable_type           started_at             ended_at  \\\n",
       "0  9DC7B962304CBFD8  electric_bike  2021-09-28 16:07:10  2021-09-28 16:09:54   \n",
       "1  F930E2C6872D6B32  electric_bike  2021-09-28 14:24:51  2021-09-28 14:40:05   \n",
       "2  6EF72137900BB910  electric_bike  2021-09-28 00:20:16  2021-09-28 00:23:57   \n",
       "3  78D1DE133B3DBF55  electric_bike  2021-09-28 14:51:17  2021-09-28 15:00:06   \n",
       "4  E03D4ACDCAEF6E00  electric_bike  2021-09-28 09:53:12  2021-09-28 10:03:44   \n",
       "\n",
       "  start_station_name start_station_id end_station_name end_station_id  \\\n",
       "0                NaN              NaN              NaN            NaN   \n",
       "1                NaN              NaN              NaN            NaN   \n",
       "2                NaN              NaN              NaN            NaN   \n",
       "3                NaN              NaN              NaN            NaN   \n",
       "4                NaN              NaN              NaN            NaN   \n",
       "\n",
       "   start_lat  start_lng  end_lat  end_lng member_casual  \n",
       "0      41.89     -87.68    41.89   -87.67        casual  \n",
       "1      41.94     -87.64    41.98   -87.67        casual  \n",
       "2      41.81     -87.72    41.80   -87.72        casual  \n",
       "3      41.80     -87.72    41.81   -87.72        casual  \n",
       "4      41.88     -87.74    41.88   -87.71        casual  "
      ]
     },
     "execution_count": 20,
     "metadata": {},
     "output_type": "execute_result"
    }
   ],
   "source": [
    "df.head()"
   ]
  },
  {
   "cell_type": "markdown",
   "metadata": {},
   "source": [
    "What we're trying to achieve is to find any pattern based on trip data, for those who are member or casual riders.\n",
    "The variables that seems to be useful are:\n",
    " - rideable_type\n",
    " - started_at\n",
    " - ended_at\n",
    " - start_lat\n",
    " - start_lng\n",
    " - end_lat\n",
    " - end_lng\n",
    " - member_casual\n"
   ]
  },
  {
   "cell_type": "markdown",
   "metadata": {},
   "source": [
    "we wont be using ride_id, since its just unique identifier for each row in the dataset. As for station names and id, I dont think its relevant for this analysis purpose. unless what we trying to achieve is boost our service in a certain area"
   ]
  },
  {
   "cell_type": "markdown",
   "metadata": {},
   "source": [
    "### Check categorical variables if there's any typo and null values"
   ]
  },
  {
   "cell_type": "code",
   "execution_count": 21,
   "metadata": {},
   "outputs": [
    {
     "data": {
      "text/plain": [
       "classic_bike     2896658\n",
       "electric_bike    2778399\n",
       "docked_bike       207986\n",
       "Name: rideable_type, dtype: int64"
      ]
     },
     "execution_count": 21,
     "metadata": {},
     "output_type": "execute_result"
    }
   ],
   "source": [
    "df['rideable_type'].value_counts()"
   ]
  },
  {
   "cell_type": "code",
   "execution_count": 22,
   "metadata": {},
   "outputs": [
    {
     "data": {
      "text/plain": [
       "member    3414564\n",
       "casual    2468479\n",
       "Name: member_casual, dtype: int64"
      ]
     },
     "execution_count": 22,
     "metadata": {},
     "output_type": "execute_result"
    }
   ],
   "source": [
    "df['member_casual'].value_counts()"
   ]
  },
  {
   "cell_type": "code",
   "execution_count": 23,
   "metadata": {},
   "outputs": [
    {
     "data": {
      "text/plain": [
       "ride_id                    0\n",
       "rideable_type              0\n",
       "started_at                 0\n",
       "ended_at                   0\n",
       "start_station_name    884365\n",
       "start_station_id      884363\n",
       "end_station_name      946303\n",
       "end_station_id        946303\n",
       "start_lat                  0\n",
       "start_lng                  0\n",
       "end_lat                 5727\n",
       "end_lng                 5727\n",
       "member_casual              0\n",
       "dtype: int64"
      ]
     },
     "execution_count": 23,
     "metadata": {},
     "output_type": "execute_result"
    }
   ],
   "source": [
    "df.isnull().sum()"
   ]
  },
  {
   "cell_type": "code",
   "execution_count": 24,
   "metadata": {},
   "outputs": [
    {
     "data": {
      "text/plain": [
       "5883043"
      ]
     },
     "execution_count": 24,
     "metadata": {},
     "output_type": "execute_result"
    }
   ],
   "source": [
    "df.shape[0]"
   ]
  },
  {
   "cell_type": "markdown",
   "metadata": {},
   "source": [
    "### Steps:\n",
    "Drop rows with null latitude"
   ]
  },
  {
   "cell_type": "code",
   "execution_count": 25,
   "metadata": {},
   "outputs": [],
   "source": [
    "df.dropna(subset=['end_lat', 'end_lng'], inplace = True)\n",
    "df.reset_index(drop = True, inplace = True)"
   ]
  },
  {
   "cell_type": "markdown",
   "metadata": {},
   "source": [
    "Drop id and station column since it won't be used in this analysis"
   ]
  },
  {
   "cell_type": "code",
   "execution_count": 26,
   "metadata": {},
   "outputs": [
    {
     "data": {
      "text/html": [
       "<div>\n",
       "<style scoped>\n",
       "    .dataframe tbody tr th:only-of-type {\n",
       "        vertical-align: middle;\n",
       "    }\n",
       "\n",
       "    .dataframe tbody tr th {\n",
       "        vertical-align: top;\n",
       "    }\n",
       "\n",
       "    .dataframe thead th {\n",
       "        text-align: right;\n",
       "    }\n",
       "</style>\n",
       "<table border=\"1\" class=\"dataframe\">\n",
       "  <thead>\n",
       "    <tr style=\"text-align: right;\">\n",
       "      <th></th>\n",
       "      <th>rideable_type</th>\n",
       "      <th>started_at</th>\n",
       "      <th>ended_at</th>\n",
       "      <th>start_lat</th>\n",
       "      <th>start_lng</th>\n",
       "      <th>end_lat</th>\n",
       "      <th>end_lng</th>\n",
       "      <th>member_casual</th>\n",
       "    </tr>\n",
       "  </thead>\n",
       "  <tbody>\n",
       "    <tr>\n",
       "      <th>0</th>\n",
       "      <td>electric_bike</td>\n",
       "      <td>2021-09-28 16:07:10</td>\n",
       "      <td>2021-09-28 16:09:54</td>\n",
       "      <td>41.89</td>\n",
       "      <td>-87.68</td>\n",
       "      <td>41.89</td>\n",
       "      <td>-87.67</td>\n",
       "      <td>casual</td>\n",
       "    </tr>\n",
       "    <tr>\n",
       "      <th>1</th>\n",
       "      <td>electric_bike</td>\n",
       "      <td>2021-09-28 14:24:51</td>\n",
       "      <td>2021-09-28 14:40:05</td>\n",
       "      <td>41.94</td>\n",
       "      <td>-87.64</td>\n",
       "      <td>41.98</td>\n",
       "      <td>-87.67</td>\n",
       "      <td>casual</td>\n",
       "    </tr>\n",
       "    <tr>\n",
       "      <th>2</th>\n",
       "      <td>electric_bike</td>\n",
       "      <td>2021-09-28 00:20:16</td>\n",
       "      <td>2021-09-28 00:23:57</td>\n",
       "      <td>41.81</td>\n",
       "      <td>-87.72</td>\n",
       "      <td>41.80</td>\n",
       "      <td>-87.72</td>\n",
       "      <td>casual</td>\n",
       "    </tr>\n",
       "    <tr>\n",
       "      <th>3</th>\n",
       "      <td>electric_bike</td>\n",
       "      <td>2021-09-28 14:51:17</td>\n",
       "      <td>2021-09-28 15:00:06</td>\n",
       "      <td>41.80</td>\n",
       "      <td>-87.72</td>\n",
       "      <td>41.81</td>\n",
       "      <td>-87.72</td>\n",
       "      <td>casual</td>\n",
       "    </tr>\n",
       "    <tr>\n",
       "      <th>4</th>\n",
       "      <td>electric_bike</td>\n",
       "      <td>2021-09-28 09:53:12</td>\n",
       "      <td>2021-09-28 10:03:44</td>\n",
       "      <td>41.88</td>\n",
       "      <td>-87.74</td>\n",
       "      <td>41.88</td>\n",
       "      <td>-87.71</td>\n",
       "      <td>casual</td>\n",
       "    </tr>\n",
       "  </tbody>\n",
       "</table>\n",
       "</div>"
      ],
      "text/plain": [
       "   rideable_type           started_at             ended_at  start_lat  \\\n",
       "0  electric_bike  2021-09-28 16:07:10  2021-09-28 16:09:54      41.89   \n",
       "1  electric_bike  2021-09-28 14:24:51  2021-09-28 14:40:05      41.94   \n",
       "2  electric_bike  2021-09-28 00:20:16  2021-09-28 00:23:57      41.81   \n",
       "3  electric_bike  2021-09-28 14:51:17  2021-09-28 15:00:06      41.80   \n",
       "4  electric_bike  2021-09-28 09:53:12  2021-09-28 10:03:44      41.88   \n",
       "\n",
       "   start_lng  end_lat  end_lng member_casual  \n",
       "0     -87.68    41.89   -87.67        casual  \n",
       "1     -87.64    41.98   -87.67        casual  \n",
       "2     -87.72    41.80   -87.72        casual  \n",
       "3     -87.72    41.81   -87.72        casual  \n",
       "4     -87.74    41.88   -87.71        casual  "
      ]
     },
     "execution_count": 26,
     "metadata": {},
     "output_type": "execute_result"
    }
   ],
   "source": [
    "df = df.drop(['ride_id', 'start_station_name', 'start_station_id', 'end_station_name', 'end_station_id'], axis = 1)\n",
    "df.head()"
   ]
  },
  {
   "cell_type": "markdown",
   "metadata": {},
   "source": [
    "Calculate duration by subtracting ended_at and started_at. Split started_at by day, month and year."
   ]
  },
  {
   "cell_type": "code",
   "execution_count": 27,
   "metadata": {},
   "outputs": [],
   "source": [
    "from datetime import datetime, time"
   ]
  },
  {
   "cell_type": "code",
   "execution_count": 32,
   "metadata": {},
   "outputs": [
    {
     "name": "stderr",
     "output_type": "stream",
     "text": [
      "100%|█████████████████████████████████████████████████████████████████████| 5877316/5877316 [08:18<00:00, 11797.16it/s]\n"
     ]
    }
   ],
   "source": [
    "temp1 = []\n",
    "temp2 = []\n",
    "temp3 = []\n",
    "temp4 = []\n",
    "temp5 = []\n",
    "temp6 = []\n",
    "temp7 = []\n",
    "\n",
    "for i in tqdm(range(df.shape[0])):\n",
    "    temp1.append(datetime.strptime(df['started_at'][i], '%Y-%m-%d %H:%M:%S'))\n",
    "    temp2.append(datetime.strptime(df['ended_at'][i], '%Y-%m-%d %H:%M:%S'))\n",
    "    a = temp2[i] - temp1[i]\n",
    "    temp3.append(a.seconds)\n",
    "    \n",
    "    temp4.append(temp1[i].year)\n",
    "    temp5.append(temp1[i].month)\n",
    "    temp6.append(temp1[i].strftime('%A'))\n",
    "#     if b == 'Monday':\n",
    "#         temp6.append(1)\n",
    "#     elif b == 'Tuesday':\n",
    "#         temp6.append(2)\n",
    "#     elif b == 'Wednesday':\n",
    "#         temp6.append(3)\n",
    "#     elif b == 'Thursday':\n",
    "#         temp6.append(4)\n",
    "#     elif b == 'Friday':\n",
    "#         temp6.append(5)\n",
    "#     elif b == 'Saturday':\n",
    "#         temp6.append(6)\n",
    "#     else:\n",
    "#         temp6.append(7)\n",
    "    temp7.append(temp1[i].hour)\n",
    "\n",
    "df['duration'] = temp3\n",
    "\n",
    "df['hour'] = temp7\n",
    "df['day'] = temp6\n",
    "df['month'] = temp5\n",
    "df['year'] = temp4\n",
    "\n",
    "\n",
    "# to clear memory\n",
    "temp1 = []\n",
    "temp2 = []\n",
    "temp3 = []\n",
    "temp4 = []\n",
    "temp5 = []\n",
    "temp6 = []\n",
    "temp7 = []"
   ]
  },
  {
   "cell_type": "code",
   "execution_count": 33,
   "metadata": {},
   "outputs": [
    {
     "data": {
      "text/html": [
       "<div>\n",
       "<style scoped>\n",
       "    .dataframe tbody tr th:only-of-type {\n",
       "        vertical-align: middle;\n",
       "    }\n",
       "\n",
       "    .dataframe tbody tr th {\n",
       "        vertical-align: top;\n",
       "    }\n",
       "\n",
       "    .dataframe thead th {\n",
       "        text-align: right;\n",
       "    }\n",
       "</style>\n",
       "<table border=\"1\" class=\"dataframe\">\n",
       "  <thead>\n",
       "    <tr style=\"text-align: right;\">\n",
       "      <th></th>\n",
       "      <th>rideable_type</th>\n",
       "      <th>started_at</th>\n",
       "      <th>ended_at</th>\n",
       "      <th>start_lat</th>\n",
       "      <th>start_lng</th>\n",
       "      <th>end_lat</th>\n",
       "      <th>end_lng</th>\n",
       "      <th>member_casual</th>\n",
       "      <th>duration</th>\n",
       "      <th>hour</th>\n",
       "      <th>day</th>\n",
       "      <th>month</th>\n",
       "      <th>year</th>\n",
       "    </tr>\n",
       "  </thead>\n",
       "  <tbody>\n",
       "    <tr>\n",
       "      <th>0</th>\n",
       "      <td>electric_bike</td>\n",
       "      <td>2021-09-28 16:07:10</td>\n",
       "      <td>2021-09-28 16:09:54</td>\n",
       "      <td>41.89</td>\n",
       "      <td>-87.68</td>\n",
       "      <td>41.89</td>\n",
       "      <td>-87.67</td>\n",
       "      <td>casual</td>\n",
       "      <td>164</td>\n",
       "      <td>16</td>\n",
       "      <td>Tuesday</td>\n",
       "      <td>9</td>\n",
       "      <td>2021</td>\n",
       "    </tr>\n",
       "    <tr>\n",
       "      <th>1</th>\n",
       "      <td>electric_bike</td>\n",
       "      <td>2021-09-28 14:24:51</td>\n",
       "      <td>2021-09-28 14:40:05</td>\n",
       "      <td>41.94</td>\n",
       "      <td>-87.64</td>\n",
       "      <td>41.98</td>\n",
       "      <td>-87.67</td>\n",
       "      <td>casual</td>\n",
       "      <td>914</td>\n",
       "      <td>14</td>\n",
       "      <td>Tuesday</td>\n",
       "      <td>9</td>\n",
       "      <td>2021</td>\n",
       "    </tr>\n",
       "    <tr>\n",
       "      <th>2</th>\n",
       "      <td>electric_bike</td>\n",
       "      <td>2021-09-28 00:20:16</td>\n",
       "      <td>2021-09-28 00:23:57</td>\n",
       "      <td>41.81</td>\n",
       "      <td>-87.72</td>\n",
       "      <td>41.80</td>\n",
       "      <td>-87.72</td>\n",
       "      <td>casual</td>\n",
       "      <td>221</td>\n",
       "      <td>0</td>\n",
       "      <td>Tuesday</td>\n",
       "      <td>9</td>\n",
       "      <td>2021</td>\n",
       "    </tr>\n",
       "    <tr>\n",
       "      <th>3</th>\n",
       "      <td>electric_bike</td>\n",
       "      <td>2021-09-28 14:51:17</td>\n",
       "      <td>2021-09-28 15:00:06</td>\n",
       "      <td>41.80</td>\n",
       "      <td>-87.72</td>\n",
       "      <td>41.81</td>\n",
       "      <td>-87.72</td>\n",
       "      <td>casual</td>\n",
       "      <td>529</td>\n",
       "      <td>14</td>\n",
       "      <td>Tuesday</td>\n",
       "      <td>9</td>\n",
       "      <td>2021</td>\n",
       "    </tr>\n",
       "    <tr>\n",
       "      <th>4</th>\n",
       "      <td>electric_bike</td>\n",
       "      <td>2021-09-28 09:53:12</td>\n",
       "      <td>2021-09-28 10:03:44</td>\n",
       "      <td>41.88</td>\n",
       "      <td>-87.74</td>\n",
       "      <td>41.88</td>\n",
       "      <td>-87.71</td>\n",
       "      <td>casual</td>\n",
       "      <td>632</td>\n",
       "      <td>9</td>\n",
       "      <td>Tuesday</td>\n",
       "      <td>9</td>\n",
       "      <td>2021</td>\n",
       "    </tr>\n",
       "  </tbody>\n",
       "</table>\n",
       "</div>"
      ],
      "text/plain": [
       "   rideable_type           started_at             ended_at  start_lat  \\\n",
       "0  electric_bike  2021-09-28 16:07:10  2021-09-28 16:09:54      41.89   \n",
       "1  electric_bike  2021-09-28 14:24:51  2021-09-28 14:40:05      41.94   \n",
       "2  electric_bike  2021-09-28 00:20:16  2021-09-28 00:23:57      41.81   \n",
       "3  electric_bike  2021-09-28 14:51:17  2021-09-28 15:00:06      41.80   \n",
       "4  electric_bike  2021-09-28 09:53:12  2021-09-28 10:03:44      41.88   \n",
       "\n",
       "   start_lng  end_lat  end_lng member_casual  duration  hour      day  month  \\\n",
       "0     -87.68    41.89   -87.67        casual       164    16  Tuesday      9   \n",
       "1     -87.64    41.98   -87.67        casual       914    14  Tuesday      9   \n",
       "2     -87.72    41.80   -87.72        casual       221     0  Tuesday      9   \n",
       "3     -87.72    41.81   -87.72        casual       529    14  Tuesday      9   \n",
       "4     -87.74    41.88   -87.71        casual       632     9  Tuesday      9   \n",
       "\n",
       "   year  \n",
       "0  2021  \n",
       "1  2021  \n",
       "2  2021  \n",
       "3  2021  \n",
       "4  2021  "
      ]
     },
     "execution_count": 33,
     "metadata": {},
     "output_type": "execute_result"
    }
   ],
   "source": [
    "df.head()"
   ]
  },
  {
   "cell_type": "code",
   "execution_count": 34,
   "metadata": {},
   "outputs": [
    {
     "data": {
      "text/plain": [
       "0         471\n",
       "1        1408\n",
       "2        5113\n",
       "3        3049\n",
       "4        2482\n",
       "         ... \n",
       "86394       2\n",
       "86395       3\n",
       "86397       3\n",
       "86398       2\n",
       "86399       4\n",
       "Name: duration, Length: 21568, dtype: int64"
      ]
     },
     "execution_count": 34,
     "metadata": {},
     "output_type": "execute_result"
    }
   ],
   "source": [
    "df['duration'].value_counts(sort = False).sort_index()"
   ]
  },
  {
   "cell_type": "markdown",
   "metadata": {},
   "source": [
    "There are many trips with 0 and 1 second long, so we decide to drop them"
   ]
  },
  {
   "cell_type": "code",
   "execution_count": 35,
   "metadata": {},
   "outputs": [
    {
     "data": {
      "text/html": [
       "<div>\n",
       "<style scoped>\n",
       "    .dataframe tbody tr th:only-of-type {\n",
       "        vertical-align: middle;\n",
       "    }\n",
       "\n",
       "    .dataframe tbody tr th {\n",
       "        vertical-align: top;\n",
       "    }\n",
       "\n",
       "    .dataframe thead th {\n",
       "        text-align: right;\n",
       "    }\n",
       "</style>\n",
       "<table border=\"1\" class=\"dataframe\">\n",
       "  <thead>\n",
       "    <tr style=\"text-align: right;\">\n",
       "      <th></th>\n",
       "      <th>rideable_type</th>\n",
       "      <th>started_at</th>\n",
       "      <th>ended_at</th>\n",
       "      <th>start_lat</th>\n",
       "      <th>start_lng</th>\n",
       "      <th>end_lat</th>\n",
       "      <th>end_lng</th>\n",
       "      <th>member_casual</th>\n",
       "      <th>duration</th>\n",
       "      <th>hour</th>\n",
       "      <th>day</th>\n",
       "      <th>month</th>\n",
       "      <th>year</th>\n",
       "    </tr>\n",
       "  </thead>\n",
       "  <tbody>\n",
       "    <tr>\n",
       "      <th>0</th>\n",
       "      <td>electric_bike</td>\n",
       "      <td>2021-09-28 16:07:10</td>\n",
       "      <td>2021-09-28 16:09:54</td>\n",
       "      <td>41.89</td>\n",
       "      <td>-87.68</td>\n",
       "      <td>41.89</td>\n",
       "      <td>-87.67</td>\n",
       "      <td>casual</td>\n",
       "      <td>164</td>\n",
       "      <td>16</td>\n",
       "      <td>Tuesday</td>\n",
       "      <td>9</td>\n",
       "      <td>2021</td>\n",
       "    </tr>\n",
       "    <tr>\n",
       "      <th>1</th>\n",
       "      <td>electric_bike</td>\n",
       "      <td>2021-09-28 14:24:51</td>\n",
       "      <td>2021-09-28 14:40:05</td>\n",
       "      <td>41.94</td>\n",
       "      <td>-87.64</td>\n",
       "      <td>41.98</td>\n",
       "      <td>-87.67</td>\n",
       "      <td>casual</td>\n",
       "      <td>914</td>\n",
       "      <td>14</td>\n",
       "      <td>Tuesday</td>\n",
       "      <td>9</td>\n",
       "      <td>2021</td>\n",
       "    </tr>\n",
       "    <tr>\n",
       "      <th>2</th>\n",
       "      <td>electric_bike</td>\n",
       "      <td>2021-09-28 00:20:16</td>\n",
       "      <td>2021-09-28 00:23:57</td>\n",
       "      <td>41.81</td>\n",
       "      <td>-87.72</td>\n",
       "      <td>41.80</td>\n",
       "      <td>-87.72</td>\n",
       "      <td>casual</td>\n",
       "      <td>221</td>\n",
       "      <td>0</td>\n",
       "      <td>Tuesday</td>\n",
       "      <td>9</td>\n",
       "      <td>2021</td>\n",
       "    </tr>\n",
       "    <tr>\n",
       "      <th>3</th>\n",
       "      <td>electric_bike</td>\n",
       "      <td>2021-09-28 14:51:17</td>\n",
       "      <td>2021-09-28 15:00:06</td>\n",
       "      <td>41.80</td>\n",
       "      <td>-87.72</td>\n",
       "      <td>41.81</td>\n",
       "      <td>-87.72</td>\n",
       "      <td>casual</td>\n",
       "      <td>529</td>\n",
       "      <td>14</td>\n",
       "      <td>Tuesday</td>\n",
       "      <td>9</td>\n",
       "      <td>2021</td>\n",
       "    </tr>\n",
       "    <tr>\n",
       "      <th>4</th>\n",
       "      <td>electric_bike</td>\n",
       "      <td>2021-09-28 09:53:12</td>\n",
       "      <td>2021-09-28 10:03:44</td>\n",
       "      <td>41.88</td>\n",
       "      <td>-87.74</td>\n",
       "      <td>41.88</td>\n",
       "      <td>-87.71</td>\n",
       "      <td>casual</td>\n",
       "      <td>632</td>\n",
       "      <td>9</td>\n",
       "      <td>Tuesday</td>\n",
       "      <td>9</td>\n",
       "      <td>2021</td>\n",
       "    </tr>\n",
       "  </tbody>\n",
       "</table>\n",
       "</div>"
      ],
      "text/plain": [
       "   rideable_type           started_at             ended_at  start_lat  \\\n",
       "0  electric_bike  2021-09-28 16:07:10  2021-09-28 16:09:54      41.89   \n",
       "1  electric_bike  2021-09-28 14:24:51  2021-09-28 14:40:05      41.94   \n",
       "2  electric_bike  2021-09-28 00:20:16  2021-09-28 00:23:57      41.81   \n",
       "3  electric_bike  2021-09-28 14:51:17  2021-09-28 15:00:06      41.80   \n",
       "4  electric_bike  2021-09-28 09:53:12  2021-09-28 10:03:44      41.88   \n",
       "\n",
       "   start_lng  end_lat  end_lng member_casual  duration  hour      day  month  \\\n",
       "0     -87.68    41.89   -87.67        casual       164    16  Tuesday      9   \n",
       "1     -87.64    41.98   -87.67        casual       914    14  Tuesday      9   \n",
       "2     -87.72    41.80   -87.72        casual       221     0  Tuesday      9   \n",
       "3     -87.72    41.81   -87.72        casual       529    14  Tuesday      9   \n",
       "4     -87.74    41.88   -87.71        casual       632     9  Tuesday      9   \n",
       "\n",
       "   year  \n",
       "0  2021  \n",
       "1  2021  \n",
       "2  2021  \n",
       "3  2021  \n",
       "4  2021  "
      ]
     },
     "execution_count": 35,
     "metadata": {},
     "output_type": "execute_result"
    }
   ],
   "source": [
    "df = df[df['duration'] > 1]\n",
    "df.reset_index(drop = True, inplace = True)\n",
    "df.head()"
   ]
  },
  {
   "cell_type": "markdown",
   "metadata": {},
   "source": [
    "Calculate travelled distance using Haversine Formula, make new column called 'distance'. Haversine formula will result in Kilometer, then calculate speed in Km/h based on distance and duration"
   ]
  },
  {
   "cell_type": "code",
   "execution_count": 36,
   "metadata": {},
   "outputs": [],
   "source": [
    "from haversine import haversine, Unit"
   ]
  },
  {
   "cell_type": "code",
   "execution_count": 37,
   "metadata": {},
   "outputs": [],
   "source": [
    "temp1 = []\n",
    "temp2 = []\n",
    "\n",
    "for i in range(df.shape[0]):\n",
    "    start = (df['start_lat'][i], df['start_lng'][i])\n",
    "    end = (df['end_lat'][i], df['end_lng'][i])\n",
    "    temp1.append(haversine(start, end))\n",
    "    \n",
    "    temp2.append(round(temp1[i] / (df['duration'][i] / 3600), 2))\n",
    "    \n",
    "df['distance'] = temp1\n",
    "df['speed'] = temp2\n",
    "\n",
    "\n",
    "# to clear memory\n",
    "temp1 = []\n",
    "temp2 = []"
   ]
  },
  {
   "cell_type": "code",
   "execution_count": 38,
   "metadata": {},
   "outputs": [
    {
     "data": {
      "text/plain": [
       "0.000000       347619\n",
       "0.000020            1\n",
       "0.000023            1\n",
       "0.000033            1\n",
       "0.000033            1\n",
       "                ...  \n",
       "31.008517           1\n",
       "37.678748           1\n",
       "42.272164           1\n",
       "114.383728          1\n",
       "1189.523646         1\n",
       "Name: distance, Length: 2065727, dtype: int64"
      ]
     },
     "execution_count": 38,
     "metadata": {},
     "output_type": "execute_result"
    }
   ],
   "source": [
    "df['distance'].value_counts().sort_index()"
   ]
  },
  {
   "cell_type": "code",
   "execution_count": 39,
   "metadata": {},
   "outputs": [
    {
     "data": {
      "text/plain": [
       "(-1.1909999999999998, 118.952]    5875436\n",
       "(1070.571, 1189.524]                    1\n",
       "(951.619, 1070.571]                     0\n",
       "(832.667, 951.619]                      0\n",
       "(713.714, 832.667]                      0\n",
       "(594.762, 713.714]                      0\n",
       "(475.809, 594.762]                      0\n",
       "(356.857, 475.809]                      0\n",
       "(237.905, 356.857]                      0\n",
       "(118.952, 237.905]                      0\n",
       "Name: distance, dtype: int64"
      ]
     },
     "execution_count": 39,
     "metadata": {},
     "output_type": "execute_result"
    }
   ],
   "source": [
    "df['distance'].value_counts(bins = 10)"
   ]
  },
  {
   "cell_type": "markdown",
   "metadata": {},
   "source": [
    "there are rows with very small distance, so we decided to those who travels less than 1 meter"
   ]
  },
  {
   "cell_type": "code",
   "execution_count": 40,
   "metadata": {},
   "outputs": [
    {
     "data": {
      "text/html": [
       "<div>\n",
       "<style scoped>\n",
       "    .dataframe tbody tr th:only-of-type {\n",
       "        vertical-align: middle;\n",
       "    }\n",
       "\n",
       "    .dataframe tbody tr th {\n",
       "        vertical-align: top;\n",
       "    }\n",
       "\n",
       "    .dataframe thead th {\n",
       "        text-align: right;\n",
       "    }\n",
       "</style>\n",
       "<table border=\"1\" class=\"dataframe\">\n",
       "  <thead>\n",
       "    <tr style=\"text-align: right;\">\n",
       "      <th></th>\n",
       "      <th>rideable_type</th>\n",
       "      <th>started_at</th>\n",
       "      <th>ended_at</th>\n",
       "      <th>start_lat</th>\n",
       "      <th>start_lng</th>\n",
       "      <th>end_lat</th>\n",
       "      <th>end_lng</th>\n",
       "      <th>member_casual</th>\n",
       "      <th>duration</th>\n",
       "      <th>hour</th>\n",
       "      <th>day</th>\n",
       "      <th>month</th>\n",
       "      <th>year</th>\n",
       "      <th>distance</th>\n",
       "      <th>speed</th>\n",
       "    </tr>\n",
       "  </thead>\n",
       "  <tbody>\n",
       "    <tr>\n",
       "      <th>0</th>\n",
       "      <td>electric_bike</td>\n",
       "      <td>2021-09-28 16:07:10</td>\n",
       "      <td>2021-09-28 16:09:54</td>\n",
       "      <td>41.89</td>\n",
       "      <td>-87.68</td>\n",
       "      <td>41.89</td>\n",
       "      <td>-87.67</td>\n",
       "      <td>casual</td>\n",
       "      <td>164</td>\n",
       "      <td>16</td>\n",
       "      <td>Tuesday</td>\n",
       "      <td>9</td>\n",
       "      <td>2021</td>\n",
       "      <td>0.827767</td>\n",
       "      <td>18.17</td>\n",
       "    </tr>\n",
       "    <tr>\n",
       "      <th>1</th>\n",
       "      <td>electric_bike</td>\n",
       "      <td>2021-09-28 14:24:51</td>\n",
       "      <td>2021-09-28 14:40:05</td>\n",
       "      <td>41.94</td>\n",
       "      <td>-87.64</td>\n",
       "      <td>41.98</td>\n",
       "      <td>-87.67</td>\n",
       "      <td>casual</td>\n",
       "      <td>914</td>\n",
       "      <td>14</td>\n",
       "      <td>Tuesday</td>\n",
       "      <td>9</td>\n",
       "      <td>2021</td>\n",
       "      <td>5.092762</td>\n",
       "      <td>20.06</td>\n",
       "    </tr>\n",
       "    <tr>\n",
       "      <th>2</th>\n",
       "      <td>electric_bike</td>\n",
       "      <td>2021-09-28 00:20:16</td>\n",
       "      <td>2021-09-28 00:23:57</td>\n",
       "      <td>41.81</td>\n",
       "      <td>-87.72</td>\n",
       "      <td>41.80</td>\n",
       "      <td>-87.72</td>\n",
       "      <td>casual</td>\n",
       "      <td>221</td>\n",
       "      <td>0</td>\n",
       "      <td>Tuesday</td>\n",
       "      <td>9</td>\n",
       "      <td>2021</td>\n",
       "      <td>1.111951</td>\n",
       "      <td>18.11</td>\n",
       "    </tr>\n",
       "    <tr>\n",
       "      <th>3</th>\n",
       "      <td>electric_bike</td>\n",
       "      <td>2021-09-28 14:51:17</td>\n",
       "      <td>2021-09-28 15:00:06</td>\n",
       "      <td>41.80</td>\n",
       "      <td>-87.72</td>\n",
       "      <td>41.81</td>\n",
       "      <td>-87.72</td>\n",
       "      <td>casual</td>\n",
       "      <td>529</td>\n",
       "      <td>14</td>\n",
       "      <td>Tuesday</td>\n",
       "      <td>9</td>\n",
       "      <td>2021</td>\n",
       "      <td>1.111951</td>\n",
       "      <td>7.57</td>\n",
       "    </tr>\n",
       "    <tr>\n",
       "      <th>4</th>\n",
       "      <td>electric_bike</td>\n",
       "      <td>2021-09-28 09:53:12</td>\n",
       "      <td>2021-09-28 10:03:44</td>\n",
       "      <td>41.88</td>\n",
       "      <td>-87.74</td>\n",
       "      <td>41.88</td>\n",
       "      <td>-87.71</td>\n",
       "      <td>casual</td>\n",
       "      <td>632</td>\n",
       "      <td>9</td>\n",
       "      <td>Tuesday</td>\n",
       "      <td>9</td>\n",
       "      <td>2021</td>\n",
       "      <td>2.483691</td>\n",
       "      <td>14.15</td>\n",
       "    </tr>\n",
       "  </tbody>\n",
       "</table>\n",
       "</div>"
      ],
      "text/plain": [
       "   rideable_type           started_at             ended_at  start_lat  \\\n",
       "0  electric_bike  2021-09-28 16:07:10  2021-09-28 16:09:54      41.89   \n",
       "1  electric_bike  2021-09-28 14:24:51  2021-09-28 14:40:05      41.94   \n",
       "2  electric_bike  2021-09-28 00:20:16  2021-09-28 00:23:57      41.81   \n",
       "3  electric_bike  2021-09-28 14:51:17  2021-09-28 15:00:06      41.80   \n",
       "4  electric_bike  2021-09-28 09:53:12  2021-09-28 10:03:44      41.88   \n",
       "\n",
       "   start_lng  end_lat  end_lng member_casual  duration  hour      day  month  \\\n",
       "0     -87.68    41.89   -87.67        casual       164    16  Tuesday      9   \n",
       "1     -87.64    41.98   -87.67        casual       914    14  Tuesday      9   \n",
       "2     -87.72    41.80   -87.72        casual       221     0  Tuesday      9   \n",
       "3     -87.72    41.81   -87.72        casual       529    14  Tuesday      9   \n",
       "4     -87.74    41.88   -87.71        casual       632     9  Tuesday      9   \n",
       "\n",
       "   year  distance  speed  \n",
       "0  2021  0.827767  18.17  \n",
       "1  2021  5.092762  20.06  \n",
       "2  2021  1.111951  18.11  \n",
       "3  2021  1.111951   7.57  \n",
       "4  2021  2.483691  14.15  "
      ]
     },
     "execution_count": 40,
     "metadata": {},
     "output_type": "execute_result"
    }
   ],
   "source": [
    "df = df[df['distance'] > 0.001]\n",
    "df.reset_index(drop = True, inplace = True)\n",
    "df.head()"
   ]
  },
  {
   "cell_type": "code",
   "execution_count": 41,
   "metadata": {},
   "outputs": [
    {
     "data": {
      "text/plain": [
       "0.00         4103\n",
       "0.01        10829\n",
       "0.02         6885\n",
       "0.03         4477\n",
       "0.04         3416\n",
       "            ...  \n",
       "1540.87         1\n",
       "1873.61         1\n",
       "2244.03         1\n",
       "3747.60         1\n",
       "27627.65        1\n",
       "Name: speed, Length: 11325, dtype: int64"
      ]
     },
     "execution_count": 41,
     "metadata": {},
     "output_type": "execute_result"
    }
   ],
   "source": [
    "df['speed'].value_counts().sort_index()"
   ]
  },
  {
   "cell_type": "code",
   "execution_count": 42,
   "metadata": {},
   "outputs": [
    {
     "data": {
      "text/plain": [
       "(-27.629, 2762.765]      5526318\n",
       "(24864.885, 27627.65]          1\n",
       "(2762.765, 5525.53]            1\n",
       "(22102.12, 24864.885]          0\n",
       "(19339.355, 22102.12]          0\n",
       "(16576.59, 19339.355]          0\n",
       "(13813.825, 16576.59]          0\n",
       "(11051.06, 13813.825]          0\n",
       "(8288.295, 11051.06]           0\n",
       "(5525.53, 8288.295]            0\n",
       "Name: speed, dtype: int64"
      ]
     },
     "execution_count": 42,
     "metadata": {},
     "output_type": "execute_result"
    }
   ],
   "source": [
    "df['speed'].value_counts(bins = 10)"
   ]
  },
  {
   "cell_type": "markdown",
   "metadata": {},
   "source": [
    "A garden snail moves at the speed of 0.48Km/h. We decided to drop rows that has a speed slower than a snail (0.48Km/h), and faster than 80Km/h. While speed around 80Km/h might be amongst athletes, we didn't think it's easily achievable by daily bike commuter."
   ]
  },
  {
   "cell_type": "code",
   "execution_count": 43,
   "metadata": {},
   "outputs": [
    {
     "data": {
      "text/plain": [
       "0.49     1536\n",
       "0.50     1515\n",
       "0.51     1497\n",
       "0.52     1467\n",
       "0.53     1528\n",
       "         ... \n",
       "79.92       1\n",
       "79.94       1\n",
       "79.95       1\n",
       "79.96       1\n",
       "79.99       1\n",
       "Name: speed, Length: 6394, dtype: int64"
      ]
     },
     "execution_count": 43,
     "metadata": {},
     "output_type": "execute_result"
    }
   ],
   "source": [
    "df = df[df['speed'] > 0.48]\n",
    "df.reset_index(drop = True, inplace = True)\n",
    "\n",
    "df = df[df['speed'] < 80]\n",
    "df.reset_index(drop = True, inplace = True)\n",
    "\n",
    "df['speed'].value_counts().sort_index()"
   ]
  },
  {
   "cell_type": "code",
   "execution_count": 44,
   "metadata": {},
   "outputs": [
    {
     "data": {
      "text/plain": [
       "(8.44, 16.39]     3252571\n",
       "(0.409, 8.44]     1529611\n",
       "(16.39, 24.34]     601937\n",
       "(24.34, 32.29]      26078\n",
       "(32.29, 40.24]       3933\n",
       "(40.24, 48.19]       1691\n",
       "(48.19, 56.14]       1057\n",
       "(56.14, 64.09]        815\n",
       "(64.09, 72.04]        624\n",
       "(72.04, 79.99]        588\n",
       "Name: speed, dtype: int64"
      ]
     },
     "execution_count": 44,
     "metadata": {},
     "output_type": "execute_result"
    }
   ],
   "source": [
    "df['speed'].value_counts(bins = 10)"
   ]
  },
  {
   "cell_type": "code",
   "execution_count": 45,
   "metadata": {},
   "outputs": [
    {
     "data": {
      "text/plain": [
       "5418905"
      ]
     },
     "execution_count": 45,
     "metadata": {},
     "output_type": "execute_result"
    }
   ],
   "source": [
    "df.shape[0]"
   ]
  },
  {
   "cell_type": "markdown",
   "metadata": {},
   "source": [
    "sort values by ride start date"
   ]
  },
  {
   "cell_type": "code",
   "execution_count": 46,
   "metadata": {},
   "outputs": [
    {
     "data": {
      "text/html": [
       "<div>\n",
       "<style scoped>\n",
       "    .dataframe tbody tr th:only-of-type {\n",
       "        vertical-align: middle;\n",
       "    }\n",
       "\n",
       "    .dataframe tbody tr th {\n",
       "        vertical-align: top;\n",
       "    }\n",
       "\n",
       "    .dataframe thead th {\n",
       "        text-align: right;\n",
       "    }\n",
       "</style>\n",
       "<table border=\"1\" class=\"dataframe\">\n",
       "  <thead>\n",
       "    <tr style=\"text-align: right;\">\n",
       "      <th></th>\n",
       "      <th>rideable_type</th>\n",
       "      <th>started_at</th>\n",
       "      <th>ended_at</th>\n",
       "      <th>start_lat</th>\n",
       "      <th>start_lng</th>\n",
       "      <th>end_lat</th>\n",
       "      <th>end_lng</th>\n",
       "      <th>member_casual</th>\n",
       "      <th>duration</th>\n",
       "      <th>hour</th>\n",
       "      <th>day</th>\n",
       "      <th>month</th>\n",
       "      <th>year</th>\n",
       "      <th>distance</th>\n",
       "      <th>speed</th>\n",
       "    </tr>\n",
       "  </thead>\n",
       "  <tbody>\n",
       "    <tr>\n",
       "      <th>173291</th>\n",
       "      <td>classic_bike</td>\n",
       "      <td>2021-09-01 00:00:06</td>\n",
       "      <td>2021-09-01 00:03:37</td>\n",
       "      <td>41.918216</td>\n",
       "      <td>-87.656936</td>\n",
       "      <td>41.920771</td>\n",
       "      <td>-87.663712</td>\n",
       "      <td>member</td>\n",
       "      <td>211</td>\n",
       "      <td>0</td>\n",
       "      <td>Wednesday</td>\n",
       "      <td>9</td>\n",
       "      <td>2021</td>\n",
       "      <td>0.628512</td>\n",
       "      <td>10.72</td>\n",
       "    </tr>\n",
       "    <tr>\n",
       "      <th>210082</th>\n",
       "      <td>electric_bike</td>\n",
       "      <td>2021-09-01 00:00:14</td>\n",
       "      <td>2021-09-01 00:14:53</td>\n",
       "      <td>41.878002</td>\n",
       "      <td>-87.644365</td>\n",
       "      <td>41.911933</td>\n",
       "      <td>-87.632009</td>\n",
       "      <td>casual</td>\n",
       "      <td>879</td>\n",
       "      <td>0</td>\n",
       "      <td>Wednesday</td>\n",
       "      <td>9</td>\n",
       "      <td>2021</td>\n",
       "      <td>3.909099</td>\n",
       "      <td>16.01</td>\n",
       "    </tr>\n",
       "    <tr>\n",
       "      <th>111999</th>\n",
       "      <td>classic_bike</td>\n",
       "      <td>2021-09-01 00:00:17</td>\n",
       "      <td>2021-09-01 00:07:02</td>\n",
       "      <td>41.884069</td>\n",
       "      <td>-87.656853</td>\n",
       "      <td>41.885920</td>\n",
       "      <td>-87.667170</td>\n",
       "      <td>casual</td>\n",
       "      <td>405</td>\n",
       "      <td>0</td>\n",
       "      <td>Wednesday</td>\n",
       "      <td>9</td>\n",
       "      <td>2021</td>\n",
       "      <td>0.878525</td>\n",
       "      <td>7.81</td>\n",
       "    </tr>\n",
       "    <tr>\n",
       "      <th>358149</th>\n",
       "      <td>classic_bike</td>\n",
       "      <td>2021-09-01 00:00:17</td>\n",
       "      <td>2021-09-01 00:16:18</td>\n",
       "      <td>41.890847</td>\n",
       "      <td>-87.618617</td>\n",
       "      <td>41.883073</td>\n",
       "      <td>-87.656952</td>\n",
       "      <td>casual</td>\n",
       "      <td>961</td>\n",
       "      <td>0</td>\n",
       "      <td>Wednesday</td>\n",
       "      <td>9</td>\n",
       "      <td>2021</td>\n",
       "      <td>3.289041</td>\n",
       "      <td>12.32</td>\n",
       "    </tr>\n",
       "    <tr>\n",
       "      <th>552834</th>\n",
       "      <td>classic_bike</td>\n",
       "      <td>2021-09-01 00:00:33</td>\n",
       "      <td>2021-09-01 00:12:33</td>\n",
       "      <td>41.870769</td>\n",
       "      <td>-87.625734</td>\n",
       "      <td>41.853085</td>\n",
       "      <td>-87.631931</td>\n",
       "      <td>member</td>\n",
       "      <td>720</td>\n",
       "      <td>0</td>\n",
       "      <td>Wednesday</td>\n",
       "      <td>9</td>\n",
       "      <td>2021</td>\n",
       "      <td>2.032292</td>\n",
       "      <td>10.16</td>\n",
       "    </tr>\n",
       "  </tbody>\n",
       "</table>\n",
       "</div>"
      ],
      "text/plain": [
       "        rideable_type           started_at             ended_at  start_lat  \\\n",
       "173291   classic_bike  2021-09-01 00:00:06  2021-09-01 00:03:37  41.918216   \n",
       "210082  electric_bike  2021-09-01 00:00:14  2021-09-01 00:14:53  41.878002   \n",
       "111999   classic_bike  2021-09-01 00:00:17  2021-09-01 00:07:02  41.884069   \n",
       "358149   classic_bike  2021-09-01 00:00:17  2021-09-01 00:16:18  41.890847   \n",
       "552834   classic_bike  2021-09-01 00:00:33  2021-09-01 00:12:33  41.870769   \n",
       "\n",
       "        start_lng    end_lat    end_lng member_casual  duration  hour  \\\n",
       "173291 -87.656936  41.920771 -87.663712        member       211     0   \n",
       "210082 -87.644365  41.911933 -87.632009        casual       879     0   \n",
       "111999 -87.656853  41.885920 -87.667170        casual       405     0   \n",
       "358149 -87.618617  41.883073 -87.656952        casual       961     0   \n",
       "552834 -87.625734  41.853085 -87.631931        member       720     0   \n",
       "\n",
       "              day  month  year  distance  speed  \n",
       "173291  Wednesday      9  2021  0.628512  10.72  \n",
       "210082  Wednesday      9  2021  3.909099  16.01  \n",
       "111999  Wednesday      9  2021  0.878525   7.81  \n",
       "358149  Wednesday      9  2021  3.289041  12.32  \n",
       "552834  Wednesday      9  2021  2.032292  10.16  "
      ]
     },
     "execution_count": 46,
     "metadata": {},
     "output_type": "execute_result"
    }
   ],
   "source": [
    "df.sort_values(by=['started_at'], inplace = True)\n",
    "df.head()"
   ]
  },
  {
   "cell_type": "markdown",
   "metadata": {},
   "source": [
    "Drop latitudes, longitudes, start time and end time since we're already extracted new variables from it"
   ]
  },
  {
   "cell_type": "code",
   "execution_count": 47,
   "metadata": {},
   "outputs": [
    {
     "data": {
      "text/html": [
       "<div>\n",
       "<style scoped>\n",
       "    .dataframe tbody tr th:only-of-type {\n",
       "        vertical-align: middle;\n",
       "    }\n",
       "\n",
       "    .dataframe tbody tr th {\n",
       "        vertical-align: top;\n",
       "    }\n",
       "\n",
       "    .dataframe thead th {\n",
       "        text-align: right;\n",
       "    }\n",
       "</style>\n",
       "<table border=\"1\" class=\"dataframe\">\n",
       "  <thead>\n",
       "    <tr style=\"text-align: right;\">\n",
       "      <th></th>\n",
       "      <th>rideable_type</th>\n",
       "      <th>member_casual</th>\n",
       "      <th>duration</th>\n",
       "      <th>hour</th>\n",
       "      <th>day</th>\n",
       "      <th>month</th>\n",
       "      <th>year</th>\n",
       "      <th>distance</th>\n",
       "      <th>speed</th>\n",
       "    </tr>\n",
       "  </thead>\n",
       "  <tbody>\n",
       "    <tr>\n",
       "      <th>173291</th>\n",
       "      <td>classic_bike</td>\n",
       "      <td>member</td>\n",
       "      <td>211</td>\n",
       "      <td>0</td>\n",
       "      <td>Wednesday</td>\n",
       "      <td>9</td>\n",
       "      <td>2021</td>\n",
       "      <td>0.628512</td>\n",
       "      <td>10.72</td>\n",
       "    </tr>\n",
       "    <tr>\n",
       "      <th>210082</th>\n",
       "      <td>electric_bike</td>\n",
       "      <td>casual</td>\n",
       "      <td>879</td>\n",
       "      <td>0</td>\n",
       "      <td>Wednesday</td>\n",
       "      <td>9</td>\n",
       "      <td>2021</td>\n",
       "      <td>3.909099</td>\n",
       "      <td>16.01</td>\n",
       "    </tr>\n",
       "    <tr>\n",
       "      <th>111999</th>\n",
       "      <td>classic_bike</td>\n",
       "      <td>casual</td>\n",
       "      <td>405</td>\n",
       "      <td>0</td>\n",
       "      <td>Wednesday</td>\n",
       "      <td>9</td>\n",
       "      <td>2021</td>\n",
       "      <td>0.878525</td>\n",
       "      <td>7.81</td>\n",
       "    </tr>\n",
       "    <tr>\n",
       "      <th>358149</th>\n",
       "      <td>classic_bike</td>\n",
       "      <td>casual</td>\n",
       "      <td>961</td>\n",
       "      <td>0</td>\n",
       "      <td>Wednesday</td>\n",
       "      <td>9</td>\n",
       "      <td>2021</td>\n",
       "      <td>3.289041</td>\n",
       "      <td>12.32</td>\n",
       "    </tr>\n",
       "    <tr>\n",
       "      <th>552834</th>\n",
       "      <td>classic_bike</td>\n",
       "      <td>member</td>\n",
       "      <td>720</td>\n",
       "      <td>0</td>\n",
       "      <td>Wednesday</td>\n",
       "      <td>9</td>\n",
       "      <td>2021</td>\n",
       "      <td>2.032292</td>\n",
       "      <td>10.16</td>\n",
       "    </tr>\n",
       "  </tbody>\n",
       "</table>\n",
       "</div>"
      ],
      "text/plain": [
       "        rideable_type member_casual  duration  hour        day  month  year  \\\n",
       "173291   classic_bike        member       211     0  Wednesday      9  2021   \n",
       "210082  electric_bike        casual       879     0  Wednesday      9  2021   \n",
       "111999   classic_bike        casual       405     0  Wednesday      9  2021   \n",
       "358149   classic_bike        casual       961     0  Wednesday      9  2021   \n",
       "552834   classic_bike        member       720     0  Wednesday      9  2021   \n",
       "\n",
       "        distance  speed  \n",
       "173291  0.628512  10.72  \n",
       "210082  3.909099  16.01  \n",
       "111999  0.878525   7.81  \n",
       "358149  3.289041  12.32  \n",
       "552834  2.032292  10.16  "
      ]
     },
     "execution_count": 47,
     "metadata": {},
     "output_type": "execute_result"
    }
   ],
   "source": [
    "df.drop(['started_at', 'ended_at', 'start_lat', 'start_lng', 'end_lat', 'end_lng'], axis = 1, inplace = True)\n",
    "df.head()"
   ]
  },
  {
   "cell_type": "markdown",
   "metadata": {},
   "source": [
    "### Data Cleaning is done, export the cleaned dataset as .csv"
   ]
  },
  {
   "cell_type": "code",
   "execution_count": 48,
   "metadata": {},
   "outputs": [],
   "source": [
    "df.to_csv('cleaned.csv', index = False)"
   ]
  },
  {
   "cell_type": "code",
   "execution_count": null,
   "metadata": {},
   "outputs": [],
   "source": []
  }
 ],
 "metadata": {
  "kernelspec": {
   "display_name": "Python 3",
   "language": "python",
   "name": "python3"
  },
  "language_info": {
   "codemirror_mode": {
    "name": "ipython",
    "version": 3
   },
   "file_extension": ".py",
   "mimetype": "text/x-python",
   "name": "python",
   "nbconvert_exporter": "python",
   "pygments_lexer": "ipython3",
   "version": "3.7.1"
  }
 },
 "nbformat": 4,
 "nbformat_minor": 4
}
